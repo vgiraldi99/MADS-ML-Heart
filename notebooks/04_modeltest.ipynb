{
 "cells": [
  {
   "cell_type": "code",
   "execution_count": 1,
   "id": "40b4ad97",
   "metadata": {},
   "outputs": [
    {
     "ename": "TypeError",
     "evalue": "non-default argument 'hidden_size' follows default argument 'input_size'",
     "output_type": "error",
     "traceback": [
      "\u001b[31m---------------------------------------------------------------------------\u001b[39m",
      "\u001b[31mTypeError\u001b[39m                                 Traceback (most recent call last)",
      "\u001b[36mCell\u001b[39m\u001b[36m \u001b[39m\u001b[32mIn[1]\u001b[39m\u001b[32m, line 13\u001b[39m\n\u001b[32m     10\u001b[39m \u001b[38;5;28;01mimport\u001b[39;00m\u001b[38;5;250m \u001b[39m\u001b[34;01mtorch\u001b[39;00m\n\u001b[32m     12\u001b[39m \u001b[38;5;28;01mfrom\u001b[39;00m\u001b[38;5;250m \u001b[39m\u001b[34;01msrc\u001b[39;00m\u001b[38;5;250m \u001b[39m\u001b[38;5;28;01mimport\u001b[39;00m datasets, metrics\n\u001b[32m---> \u001b[39m\u001b[32m13\u001b[39m \u001b[38;5;28;01mfrom\u001b[39;00m\u001b[38;5;250m \u001b[39m\u001b[34;01msrc\u001b[39;00m\u001b[34;01m.\u001b[39;00m\u001b[34;01mmodels\u001b[39;00m\u001b[38;5;250m \u001b[39m\u001b[38;5;28;01mimport\u001b[39;00m ConvBlocks, CNNSettings\n",
      "\u001b[36mFile \u001b[39m\u001b[32m~\\Documents\\repositories\\MADS-exam-25\\src\\models.py:205\u001b[39m\n\u001b[32m    197\u001b[39m         \u001b[38;5;28;01mreturn\u001b[39;00m activation_dict[activation]\n\u001b[32m    200\u001b[39m \u001b[38;5;66;03m#----------------------------------------------------------------\u001b[39;00m\n\u001b[32m    201\u001b[39m \u001b[38;5;66;03m#############################\u001b[39;00m\n\u001b[32m    202\u001b[39m \u001b[38;5;66;03m# RNN Nation                #\u001b[39;00m\n\u001b[32m    203\u001b[39m \u001b[38;5;66;03m#############################\u001b[39;00m\n\u001b[32m--> \u001b[39m\u001b[32m205\u001b[39m \u001b[38;5;129;43m@dataclass\u001b[39;49m\n\u001b[32m    206\u001b[39m \u001b[38;5;28;43;01mclass\u001b[39;49;00m\u001b[38;5;250;43m \u001b[39;49m\u001b[34;43;01mGRUSettings\u001b[39;49;00m\u001b[43m(\u001b[49m\u001b[43mBaseModelSettings\u001b[49m\u001b[43m)\u001b[49m\u001b[43m:\u001b[49m\n\u001b[32m    207\u001b[39m \u001b[43m    \u001b[49m\u001b[43minput_size\u001b[49m\u001b[43m:\u001b[49m\u001b[43m \u001b[49m\u001b[38;5;28;43mint\u001b[39;49m\u001b[43m \u001b[49m\u001b[43m=\u001b[49m\u001b[43m \u001b[49m\u001b[32;43m1\u001b[39;49m\n\u001b[32m    208\u001b[39m \u001b[43m    \u001b[49m\u001b[43mattention_dropout\u001b[49m\u001b[43m:\u001b[49m\u001b[43m \u001b[49m\u001b[38;5;28;43mfloat\u001b[39;49m\u001b[43m \u001b[49m\u001b[43m=\u001b[49m\u001b[43m \u001b[49m\u001b[32;43m0.2\u001b[39;49m\n",
      "\u001b[36mFile \u001b[39m\u001b[32mC:\\Python313\\Lib\\dataclasses.py:1305\u001b[39m, in \u001b[36mdataclass\u001b[39m\u001b[34m(cls, init, repr, eq, order, unsafe_hash, frozen, match_args, kw_only, slots, weakref_slot)\u001b[39m\n\u001b[32m   1302\u001b[39m     \u001b[38;5;28;01mreturn\u001b[39;00m wrap\n\u001b[32m   1304\u001b[39m \u001b[38;5;66;03m# We're called as @dataclass without parens.\u001b[39;00m\n\u001b[32m-> \u001b[39m\u001b[32m1305\u001b[39m \u001b[38;5;28;01mreturn\u001b[39;00m \u001b[43mwrap\u001b[49m\u001b[43m(\u001b[49m\u001b[38;5;28;43mcls\u001b[39;49m\u001b[43m)\u001b[49m\n",
      "\u001b[36mFile \u001b[39m\u001b[32mC:\\Python313\\Lib\\dataclasses.py:1295\u001b[39m, in \u001b[36mdataclass.<locals>.wrap\u001b[39m\u001b[34m(cls)\u001b[39m\n\u001b[32m   1294\u001b[39m \u001b[38;5;28;01mdef\u001b[39;00m\u001b[38;5;250m \u001b[39m\u001b[34mwrap\u001b[39m(\u001b[38;5;28mcls\u001b[39m):\n\u001b[32m-> \u001b[39m\u001b[32m1295\u001b[39m     \u001b[38;5;28;01mreturn\u001b[39;00m \u001b[43m_process_class\u001b[49m\u001b[43m(\u001b[49m\u001b[38;5;28;43mcls\u001b[39;49m\u001b[43m,\u001b[49m\u001b[43m \u001b[49m\u001b[43minit\u001b[49m\u001b[43m,\u001b[49m\u001b[43m \u001b[49m\u001b[38;5;28;43mrepr\u001b[39;49m\u001b[43m,\u001b[49m\u001b[43m \u001b[49m\u001b[43meq\u001b[49m\u001b[43m,\u001b[49m\u001b[43m \u001b[49m\u001b[43morder\u001b[49m\u001b[43m,\u001b[49m\u001b[43m \u001b[49m\u001b[43munsafe_hash\u001b[49m\u001b[43m,\u001b[49m\n\u001b[32m   1296\u001b[39m \u001b[43m                          \u001b[49m\u001b[43mfrozen\u001b[49m\u001b[43m,\u001b[49m\u001b[43m \u001b[49m\u001b[43mmatch_args\u001b[49m\u001b[43m,\u001b[49m\u001b[43m \u001b[49m\u001b[43mkw_only\u001b[49m\u001b[43m,\u001b[49m\u001b[43m \u001b[49m\u001b[43mslots\u001b[49m\u001b[43m,\u001b[49m\n\u001b[32m   1297\u001b[39m \u001b[43m                          \u001b[49m\u001b[43mweakref_slot\u001b[49m\u001b[43m)\u001b[49m\n",
      "\u001b[36mFile \u001b[39m\u001b[32mC:\\Python313\\Lib\\dataclasses.py:1078\u001b[39m, in \u001b[36m_process_class\u001b[39m\u001b[34m(cls, init, repr, eq, order, unsafe_hash, frozen, match_args, kw_only, slots, weakref_slot)\u001b[39m\n\u001b[32m   1074\u001b[39m \u001b[38;5;28;01mif\u001b[39;00m init:\n\u001b[32m   1075\u001b[39m     \u001b[38;5;66;03m# Does this class have a post-init function?\u001b[39;00m\n\u001b[32m   1076\u001b[39m     has_post_init = \u001b[38;5;28mhasattr\u001b[39m(\u001b[38;5;28mcls\u001b[39m, _POST_INIT_NAME)\n\u001b[32m-> \u001b[39m\u001b[32m1078\u001b[39m     \u001b[43m_init_fn\u001b[49m\u001b[43m(\u001b[49m\u001b[43mall_init_fields\u001b[49m\u001b[43m,\u001b[49m\n\u001b[32m   1079\u001b[39m \u001b[43m             \u001b[49m\u001b[43mstd_init_fields\u001b[49m\u001b[43m,\u001b[49m\n\u001b[32m   1080\u001b[39m \u001b[43m             \u001b[49m\u001b[43mkw_only_init_fields\u001b[49m\u001b[43m,\u001b[49m\n\u001b[32m   1081\u001b[39m \u001b[43m             \u001b[49m\u001b[43mfrozen\u001b[49m\u001b[43m,\u001b[49m\n\u001b[32m   1082\u001b[39m \u001b[43m             \u001b[49m\u001b[43mhas_post_init\u001b[49m\u001b[43m,\u001b[49m\n\u001b[32m   1083\u001b[39m \u001b[43m             \u001b[49m\u001b[38;5;66;43;03m# The name to use for the \"self\"\u001b[39;49;00m\n\u001b[32m   1084\u001b[39m \u001b[43m             \u001b[49m\u001b[38;5;66;43;03m# param in __init__.  Use \"self\"\u001b[39;49;00m\n\u001b[32m   1085\u001b[39m \u001b[43m             \u001b[49m\u001b[38;5;66;43;03m# if possible.\u001b[39;49;00m\n\u001b[32m   1086\u001b[39m \u001b[43m             \u001b[49m\u001b[33;43m'\u001b[39;49m\u001b[33;43m__dataclass_self__\u001b[39;49m\u001b[33;43m'\u001b[39;49m\u001b[43m \u001b[49m\u001b[38;5;28;43;01mif\u001b[39;49;00m\u001b[43m \u001b[49m\u001b[33;43m'\u001b[39;49m\u001b[33;43mself\u001b[39;49m\u001b[33;43m'\u001b[39;49m\u001b[43m \u001b[49m\u001b[38;5;129;43;01min\u001b[39;49;00m\u001b[43m \u001b[49m\u001b[43mfields\u001b[49m\n\u001b[32m   1087\u001b[39m \u001b[43m             \u001b[49m\u001b[38;5;28;43;01melse\u001b[39;49;00m\u001b[43m \u001b[49m\u001b[33;43m'\u001b[39;49m\u001b[33;43mself\u001b[39;49m\u001b[33;43m'\u001b[39;49m\u001b[43m,\u001b[49m\n\u001b[32m   1088\u001b[39m \u001b[43m             \u001b[49m\u001b[43mfunc_builder\u001b[49m\u001b[43m,\u001b[49m\n\u001b[32m   1089\u001b[39m \u001b[43m             \u001b[49m\u001b[43mslots\u001b[49m\u001b[43m,\u001b[49m\n\u001b[32m   1090\u001b[39m \u001b[43m             \u001b[49m\u001b[43m)\u001b[49m\n\u001b[32m   1092\u001b[39m _set_new_attribute(\u001b[38;5;28mcls\u001b[39m, \u001b[33m'\u001b[39m\u001b[33m__replace__\u001b[39m\u001b[33m'\u001b[39m, _replace)\n\u001b[32m   1094\u001b[39m \u001b[38;5;66;03m# Get the fields as a list, and include only real fields.  This is\u001b[39;00m\n\u001b[32m   1095\u001b[39m \u001b[38;5;66;03m# used in all of the following methods.\u001b[39;00m\n",
      "\u001b[36mFile \u001b[39m\u001b[32mC:\\Python313\\Lib\\dataclasses.py:627\u001b[39m, in \u001b[36m_init_fn\u001b[39m\u001b[34m(fields, std_fields, kw_only_fields, frozen, has_post_init, self_name, func_builder, slots)\u001b[39m\n\u001b[32m    625\u001b[39m             seen_default = f\n\u001b[32m    626\u001b[39m         \u001b[38;5;28;01melif\u001b[39;00m seen_default:\n\u001b[32m--> \u001b[39m\u001b[32m627\u001b[39m             \u001b[38;5;28;01mraise\u001b[39;00m \u001b[38;5;167;01mTypeError\u001b[39;00m(\u001b[33mf\u001b[39m\u001b[33m'\u001b[39m\u001b[33mnon-default argument \u001b[39m\u001b[38;5;132;01m{\u001b[39;00mf.name\u001b[38;5;132;01m!r}\u001b[39;00m\u001b[33m \u001b[39m\u001b[33m'\u001b[39m\n\u001b[32m    628\u001b[39m                             \u001b[33mf\u001b[39m\u001b[33m'\u001b[39m\u001b[33mfollows default argument \u001b[39m\u001b[38;5;132;01m{\u001b[39;00mseen_default.name\u001b[38;5;132;01m!r}\u001b[39;00m\u001b[33m'\u001b[39m)\n\u001b[32m    630\u001b[39m \u001b[38;5;28mlocals\u001b[39m = {**{\u001b[33mf\u001b[39m\u001b[33m'\u001b[39m\u001b[33m__dataclass_type_\u001b[39m\u001b[38;5;132;01m{\u001b[39;00mf.name\u001b[38;5;132;01m}\u001b[39;00m\u001b[33m__\u001b[39m\u001b[33m'\u001b[39m: f.type \u001b[38;5;28;01mfor\u001b[39;00m f \u001b[38;5;129;01min\u001b[39;00m fields},\n\u001b[32m    631\u001b[39m           **{\u001b[33m'\u001b[39m\u001b[33m__dataclass_HAS_DEFAULT_FACTORY__\u001b[39m\u001b[33m'\u001b[39m: _HAS_DEFAULT_FACTORY,\n\u001b[32m    632\u001b[39m              \u001b[33m'\u001b[39m\u001b[33m__dataclass_builtins_object__\u001b[39m\u001b[33m'\u001b[39m: \u001b[38;5;28mobject\u001b[39m,\n\u001b[32m    633\u001b[39m              }\n\u001b[32m    634\u001b[39m           }\n\u001b[32m    636\u001b[39m body_lines = []\n",
      "\u001b[31mTypeError\u001b[39m: non-default argument 'hidden_size' follows default argument 'input_size'"
     ]
    }
   ],
   "source": [
    "import sys, os\n",
    "sys.path.append(os.path.abspath('..'))\n",
    "from mads_datasets.base import BaseDatastreamer\n",
    "from mltrainer.preprocessors import BasePreprocessor\n",
    "from pathlib import Path\n",
    "import pandas as pd\n",
    "import seaborn as sns\n",
    "from sklearn.metrics import confusion_matrix\n",
    "from torch import nn\n",
    "import torch\n",
    "\n",
    "from src import datasets, metrics\n",
    "from src.models import ConvBlocks, CNNSettings"
   ]
  },
  {
   "cell_type": "code",
   "execution_count": null,
   "id": "a6793a59",
   "metadata": {},
   "outputs": [
    {
     "name": "stdout",
     "output_type": "stream",
     "text": [
      "{'ptb': 'heart', 'arrhythmia': 'heart_big'}\n"
     ]
    },
    {
     "data": {
      "text/plain": [
       "(363, 90)"
      ]
     },
     "execution_count": 12,
     "metadata": {},
     "output_type": "execute_result"
    }
   ],
   "source": [
    "import tomllib\n",
    "\n",
    "dataset = 'ptb'\n",
    "\n",
    "datadir = Path('../data')\n",
    "configfile = Path(\"config.toml\")\n",
    "with configfile.open('rb') as f:\n",
    "    config = tomllib.load(f)\n",
    "print(config)\n",
    "trainfile = datadir / (config[dataset] + '_train.parq')\n",
    "testfile = datadir / (config[dataset] + '_test.parq')\n",
    "trainfile, testfile\n",
    "shape = (16, 12)\n",
    "traindataset = datasets.HeartDataset2D(trainfile, target=\"target\", shape=shape)\n",
    "testdataset = datasets.HeartDataset2D(testfile, target=\"target\", shape=shape)\n",
    "traindataset, testdataset\n",
    "if torch.backends.mps.is_available() and torch.backends.mps.is_built():\n",
    "    device = torch.device(\"mps\")\n",
    "    print(\"Using MPS\")\n",
    "else:\n",
    "    device = \"cpu\"\n",
    "trainstreamer = BaseDatastreamer(traindataset, preprocessor = BasePreprocessor(), batchsize=32)\n",
    "teststreamer = BaseDatastreamer(testdataset, preprocessor = BasePreprocessor(), batchsize=32)\n",
    "len(trainstreamer), len(teststreamer)"
   ]
  },
  {
   "cell_type": "code",
   "execution_count": null,
   "id": "e37425ad",
   "metadata": {},
   "outputs": [
    {
     "name": "stdout",
     "output_type": "stream",
     "text": [
      "Calculated matrix size: 12\n",
      "Calculated flatten size: 384\n"
     ]
    }
   ],
   "source": [
    "model_settings = CNNSettings(\n",
    "    matrix_shape = (16, 12), #  Shape of the insert matrix\n",
    "    in_channels = 1,\n",
    "    hidden_size = 32, \n",
    "    num_layers = 3, #  Amount of convolutional layers to add\n",
    "    num_classes = 5, #  Amount of end classes to be determined \n",
    "    attention= True,\n",
    "    dense_activation='gelu'\n",
    "    )\n",
    "\n",
    "model = ConvBlocks(model_settings)"
   ]
  },
  {
   "cell_type": "code",
   "execution_count": null,
   "id": "830f8938",
   "metadata": {},
   "outputs": [],
   "source": [
    "x, y = next(trainstreamer.stream())"
   ]
  },
  {
   "cell_type": "markdown",
   "id": "e9f114fb",
   "metadata": {},
   "source": [
    "# Testing CNN models"
   ]
  },
  {
   "cell_type": "code",
   "execution_count": null,
   "id": "e019ca0a",
   "metadata": {},
   "outputs": [
    {
     "name": "stderr",
     "output_type": "stream",
     "text": [
      "<>:56: SyntaxWarning: invalid escape sequence '\\h'\n",
      "<>:56: SyntaxWarning: invalid escape sequence '\\h'\n",
      "C:\\Users\\vmgir\\AppData\\Local\\Temp\\ipykernel_42340\\3443633461.py:56: SyntaxWarning: invalid escape sequence '\\h'\n",
      "  2025-06-12 12:40:29.095 | INFO     | mltrainer.trainer:dir_add_timestamp:23 - Logging to logs\\heart2D\\20250612-124029\n",
      "\u001b[32m2025-06-27 18:26:00.133\u001b[0m | \u001b[1mINFO    \u001b[0m | \u001b[36mmltrainer.trainer\u001b[0m:\u001b[36mdir_add_timestamp\u001b[0m:\u001b[36m23\u001b[0m - \u001b[1mLogging to logs\\heart2D\\20250627-182600\u001b[0m\n",
      "100%|\u001b[38;2;30;71;6m██████████\u001b[0m| 72/72 [00:01<00:00, 45.52it/s]\n",
      "\u001b[32m2025-06-27 18:26:01.946\u001b[0m | \u001b[1mINFO    \u001b[0m | \u001b[36mmltrainer.trainer\u001b[0m:\u001b[36mreport\u001b[0m:\u001b[36m198\u001b[0m - \u001b[1mEpoch 0 train 0.7694 test 0.5711 metric ['0.7396', '0.5000']\u001b[0m\n",
      "100%|\u001b[38;2;30;71;6m██████████\u001b[0m| 72/72 [00:01<00:00, 63.26it/s]\n",
      "\u001b[32m2025-06-27 18:26:03.251\u001b[0m | \u001b[1mINFO    \u001b[0m | \u001b[36mmltrainer.trainer\u001b[0m:\u001b[36mreport\u001b[0m:\u001b[36m198\u001b[0m - \u001b[1mEpoch 1 train 0.5656 test 0.5803 metric ['0.6997', '0.5000']\u001b[0m\n",
      "100%|\u001b[38;2;30;71;6m██████████\u001b[0m| 72/72 [00:01<00:00, 70.39it/s]\n",
      "\u001b[32m2025-06-27 18:26:04.453\u001b[0m | \u001b[1mINFO    \u001b[0m | \u001b[36mmltrainer.trainer\u001b[0m:\u001b[36mreport\u001b[0m:\u001b[36m198\u001b[0m - \u001b[1mEpoch 2 train 0.5558 test 0.5515 metric ['0.7135', '0.5028']\u001b[0m\n",
      "100%|\u001b[38;2;30;71;6m██████████\u001b[0m| 72/72 [00:01<00:00, 70.06it/s]\n",
      "\u001b[32m2025-06-27 18:26:05.674\u001b[0m | \u001b[1mINFO    \u001b[0m | \u001b[36mmltrainer.trainer\u001b[0m:\u001b[36mreport\u001b[0m:\u001b[36m198\u001b[0m - \u001b[1mEpoch 3 train 0.5225 test 0.5086 metric ['0.7326', '0.6079']\u001b[0m\n",
      "100%|\u001b[38;2;30;71;6m██████████\u001b[0m| 72/72 [00:01<00:00, 69.82it/s]\n",
      "\u001b[32m2025-06-27 18:26:06.916\u001b[0m | \u001b[1mINFO    \u001b[0m | \u001b[36mmltrainer.trainer\u001b[0m:\u001b[36mreport\u001b[0m:\u001b[36m198\u001b[0m - \u001b[1mEpoch 4 train 0.5067 test 0.4964 metric ['0.7483', '0.6744']\u001b[0m\n",
      "100%|\u001b[38;2;30;71;6m██████████\u001b[0m| 72/72 [00:01<00:00, 59.18it/s]\n",
      "\u001b[32m2025-06-27 18:26:08.324\u001b[0m | \u001b[1mINFO    \u001b[0m | \u001b[36mmltrainer.trainer\u001b[0m:\u001b[36mreport\u001b[0m:\u001b[36m198\u001b[0m - \u001b[1mEpoch 5 train 0.5131 test 0.5075 metric ['0.7517', '0.6318']\u001b[0m\n",
      "100%|\u001b[38;2;30;71;6m██████████\u001b[0m| 72/72 [00:01<00:00, 66.75it/s]\n",
      "\u001b[32m2025-06-27 18:26:09.608\u001b[0m | \u001b[1mINFO    \u001b[0m | \u001b[36mmltrainer.trainer\u001b[0m:\u001b[36mreport\u001b[0m:\u001b[36m198\u001b[0m - \u001b[1mEpoch 6 train 0.4519 test 0.4058 metric ['0.8003', '0.6910']\u001b[0m\n",
      "100%|\u001b[38;2;30;71;6m██████████\u001b[0m| 72/72 [00:01<00:00, 63.94it/s]\n",
      "\u001b[32m2025-06-27 18:26:10.914\u001b[0m | \u001b[1mINFO    \u001b[0m | \u001b[36mmltrainer.trainer\u001b[0m:\u001b[36mreport\u001b[0m:\u001b[36m198\u001b[0m - \u001b[1mEpoch 7 train 0.3934 test 0.3489 metric ['0.8420', '0.7976']\u001b[0m\n",
      "100%|\u001b[38;2;30;71;6m██████████\u001b[0m| 72/72 [00:01<00:00, 64.09it/s]\n",
      "\u001b[32m2025-06-27 18:26:12.182\u001b[0m | \u001b[1mINFO    \u001b[0m | \u001b[36mmltrainer.trainer\u001b[0m:\u001b[36mreport\u001b[0m:\u001b[36m198\u001b[0m - \u001b[1mEpoch 8 train 0.3270 test 0.3315 metric ['0.8542', '0.7426']\u001b[0m\n",
      "100%|\u001b[38;2;30;71;6m██████████\u001b[0m| 72/72 [00:01<00:00, 63.09it/s]\n",
      "\u001b[32m2025-06-27 18:26:13.506\u001b[0m | \u001b[1mINFO    \u001b[0m | \u001b[36mmltrainer.trainer\u001b[0m:\u001b[36mreport\u001b[0m:\u001b[36m198\u001b[0m - \u001b[1mEpoch 9 train 0.2805 test 0.3002 metric ['0.8663', '0.8374']\u001b[0m\n",
      "100%|\u001b[38;2;30;71;6m██████████\u001b[0m| 10/10 [00:13<00:00,  1.34s/it]\n"
     ]
    },
    {
     "data": {
      "text/plain": [
       "\"\\nWith no self attention\\n----------------------\\n\\n2025-06-12 12:40:29.095 | INFO     | mltrainer.trainer:dir_add_timestamp:23 - Logging to logs\\\\heart2D\\x8250612-124029\\n2025-06-12 12:40:40.574 | INFO     | mltrainer.trainer:report:198 - Epoch 0 train 0.6231 test 0.4953 metric ['0.8660', '0.8660', '0.4331']\\n2025-06-12 12:40:49.830 | INFO     | mltrainer.trainer:report:198 - Epoch 1 train 0.3396 test 0.2720 metric ['0.9345', '0.9345', '0.6792']\\n2025-06-12 12:40:58.755 | INFO     | mltrainer.trainer:report:198 - Epoch 2 train 0.2255 test 0.1732 metric ['0.9524', '0.9524', '0.7947']\\n2025-06-12 12:41:07.598 | INFO     | mltrainer.trainer:report:198 - Epoch 3 train 0.1747 test 0.1747 metric ['0.9540', '0.9540', '0.8135']\\n2025-06-12 12:41:16.644 | INFO     | mltrainer.trainer:report:198 - Epoch 4 train 0.1551 test 0.1417 metric ['0.9619', '0.9619', '0.8665']\\n2025-06-12 12:41:25.437 | INFO     | mltrainer.trainer:report:198 - Epoch 5 train 0.1408 test 0.1358 metric ['0.9665', '0.9665', '0.8527']\\n2025-06-12 12:41:34.270 | INFO     | mltrainer.trainer:report:198 - Epoch 6 train 0.1359 test 0.1339 metric ['0.9632', '0.9632', '0.8316']\\n2025-06-12 12:41:43.206 | INFO     | mltrainer.trainer:report:198 - Epoch 7 train 0.1280 test 0.1252 metric ['0.9701', '0.9701', '0.8852']\\n2025-06-12 12:41:51.908 | INFO     | mltrainer.trainer:report:198 - Epoch 8 train 0.1146 test 0.1115 metric ['0.9715', '0.9715', '0.8671']\\n2025-06-12 12:42:00.693 | INFO     | mltrainer.trainer:report:198 - Epoch 9 train 0.1091 test 0.1228 metric ['0.9674', '0.9674', '0.8505']\\n\\nWith Selfattention\\n------------------\\n2025-06-11 17:28:34.844 | INFO     | mltrainer.trainer:dir_add_timestamp:23 - Logging to logs\\\\heart2D\\x8250611-172834\\n2025-06-11 17:28:47.577 | INFO     | mltrainer.trainer:report:198 - Epoch 0 train 0.5928 test 0.3834 metric ['0.8879', '0.8879', '0.5407']\\n2025-06-11 17:28:58.848 | INFO     | mltrainer.trainer:report:198 - Epoch 1 train 0.3588 test 0.3643 metric ['0.8982', '0.8982', '0.6011']\\n2025-06-11 17:29:09.007 | INFO     | mltrainer.trainer:report:198 - Epoch 2 train 0.3078 test 0.2556 metric ['0.9409', '0.9409', '0.7152']\\n2025-06-11 17:29:19.159 | INFO     | mltrainer.trainer:report:198 - Epoch 3 train 0.2567 test 0.2526 metric ['0.9380', '0.9380', '0.7057']\\n2025-06-11 17:29:29.365 | INFO     | mltrainer.trainer:report:198 - Epoch 4 train 0.2216 test 0.2405 metric ['0.9341', '0.9341', '0.7038']\\n2025-06-11 17:29:40.296 | INFO     | mltrainer.trainer:report:198 - Epoch 5 train 0.2095 test 0.2105 metric ['0.9455', '0.9455', '0.7568']\\n2025-06-11 17:29:51.609 | INFO     | mltrainer.trainer:report:198 - Epoch 6 train 0.2077 test 0.2526 metric ['0.9352', '0.9352', '0.7884']\\n2025-06-11 17:30:04.300 | INFO     | mltrainer.trainer:report:198 - Epoch 7 train 0.1846 test 0.1844 metric ['0.9538', '0.9538', '0.8075']\\n2025-06-11 17:30:17.407 | INFO     | mltrainer.trainer:report:198 - Epoch 8 train 0.1897 test 0.1698 metric ['0.9614', '0.9614', '0.8498']\\n2025-06-11 17:30:29.265 | INFO     | mltrainer.trainer:report:198 - Epoch 9 train 0.1696 test 0.1825 metric ['0.9517', '0.9517', '0.7818']\\n\\nWith MultiHead Self attention\\n------------------\\n2025-06-11 17:37:27.088 | INFO     | mltrainer.trainer:dir_add_timestamp:23 - Logging to logs\\\\heart2D\\x8250611-173727\\n2025-06-11 17:37:42.383 | INFO     | mltrainer.trainer:report:198 - Epoch 0 train 0.5536 test 0.3658 metric ['0.9076', '0.9076', '0.6114']\\n2025-06-11 17:37:55.318 | INFO     | mltrainer.trainer:report:198 - Epoch 1 train 0.3139 test 0.2612 metric ['0.9352', '0.9352', '0.7102']\\n2025-06-11 17:38:07.132 | INFO     | mltrainer.trainer:report:198 - Epoch 2 train 0.2405 test 0.2361 metric ['0.9405', '0.9405', '0.7631']\\n2025-06-11 17:38:18.777 | INFO     | mltrainer.trainer:report:198 - Epoch 3 train 0.1933 test 0.1941 metric ['0.9559', '0.9559', '0.8365']\\n2025-06-11 17:38:32.020 | INFO     | mltrainer.trainer:report:198 - Epoch 4 train 0.1696 test 0.1644 metric ['0.9561', '0.9561', '0.7823']\\n2025-06-11 17:38:43.319 | INFO     | mltrainer.trainer:report:198 - Epoch 5 train 0.1572 test 0.1405 metric ['0.9671', '0.9671', '0.8532']\\n2025-06-11 17:38:54.447 | INFO     | mltrainer.trainer:report:198 - Epoch 6 train 0.1335 test 0.1340 metric ['0.9674', '0.9674', '0.8493']\\n2025-06-11 17:39:10.569 | INFO     | mltrainer.trainer:report:198 - Epoch 7 train 0.1356 test 0.1371 metric ['0.9644', '0.9644', '0.8481']\\n2025-06-11 17:39:23.101 | INFO     | mltrainer.trainer:report:198 - Epoch 8 train 0.1268 test 0.1497 metric ['0.9614', '0.9614', '0.8267']\\n2025-06-11 17:39:36.016 | INFO     | mltrainer.trainer:report:198 - Epoch 9 train 0.1273 test 0.1224 metric ['0.9678', '0.9678', '0.8565']\\n\\nEpoch 9 train 0.3166 test 0.3350 metric ['0.8524', '0.8524', '0.8636']\\n\""
      ]
     },
     "execution_count": 15,
     "metadata": {},
     "output_type": "execute_result"
    }
   ],
   "source": [
    "precision = metrics.Precision('micro')\n",
    "recall = metrics.Recall('macro')\n",
    "accuracy = metrics.Accuracy()\n",
    "\n",
    "from mltrainer import Trainer, TrainerSettings, ReportTypes\n",
    "import mlflow\n",
    "mlflow.set_tracking_uri(\"sqlite:///mads_exam.db\")\n",
    "mlflow.set_experiment(\"1D world\")\n",
    "\n",
    "loss_fn = torch.nn.CrossEntropyLoss()\n",
    "\n",
    "with mlflow.start_run():\n",
    "    optimizer = torch.optim.Adam\n",
    "\n",
    "    settings = TrainerSettings(\n",
    "        epochs=10,\n",
    "        metrics=[accuracy, recall],\n",
    "        logdir=\"logs/heart2D\",\n",
    "        train_steps=len(trainstreamer) // 5,\n",
    "        valid_steps=len(teststreamer) // 5,\n",
    "        reporttypes=[ReportTypes.TENSORBOARD, ReportTypes.MLFLOW],\n",
    "        scheduler_kwargs=None,\n",
    "        earlystop_kwargs=None\n",
    "    )\n",
    "\n",
    "    # modify the tags when you change them!\n",
    "    mlflow.set_tag(\"model\", \"Conv2D\")\n",
    "    mlflow.set_tag(\"dataset\", \"heart_small_binary\")\n",
    "    mlflow.log_param(\"scheduler\", \"None\")\n",
    "    mlflow.log_param(\"earlystop\", \"None\")\n",
    "\n",
    "    mlflow.log_params(model_settings.__dict__)\n",
    "    mlflow.log_param(\"epochs\", settings.epochs)\n",
    "    mlflow.log_param(\"modeltype\", \"CNN\")\n",
    "    mlflow.log_param(\"shape0\", shape[0])\n",
    "    mlflow.log_param(\"optimizer\", str(optimizer))\n",
    "    mlflow.log_params(settings.optimizer_kwargs)\n",
    "\n",
    "    trainer = Trainer(\n",
    "        model=model,\n",
    "        settings=settings,\n",
    "        loss_fn=loss_fn,\n",
    "        optimizer=optimizer,\n",
    "        traindataloader=trainstreamer.stream(),\n",
    "        validdataloader=teststreamer.stream(),\n",
    "        scheduler=None,\n",
    "        )\n",
    "    trainer.loop()\n",
    "\n",
    "\n",
    "# No SelfAttention\n",
    "\"\"\"\n",
    "With no self attention\n",
    "----------------------\n",
    "\n",
    "2025-06-12 12:40:29.095 | INFO     | mltrainer.trainer:dir_add_timestamp:23 - Logging to logs\\heart2D\\20250612-124029\n",
    "2025-06-12 12:40:40.574 | INFO     | mltrainer.trainer:report:198 - Epoch 0 train 0.6231 test 0.4953 metric ['0.8660', '0.8660', '0.4331']\n",
    "2025-06-12 12:40:49.830 | INFO     | mltrainer.trainer:report:198 - Epoch 1 train 0.3396 test 0.2720 metric ['0.9345', '0.9345', '0.6792']\n",
    "2025-06-12 12:40:58.755 | INFO     | mltrainer.trainer:report:198 - Epoch 2 train 0.2255 test 0.1732 metric ['0.9524', '0.9524', '0.7947']\n",
    "2025-06-12 12:41:07.598 | INFO     | mltrainer.trainer:report:198 - Epoch 3 train 0.1747 test 0.1747 metric ['0.9540', '0.9540', '0.8135']\n",
    "2025-06-12 12:41:16.644 | INFO     | mltrainer.trainer:report:198 - Epoch 4 train 0.1551 test 0.1417 metric ['0.9619', '0.9619', '0.8665']\n",
    "2025-06-12 12:41:25.437 | INFO     | mltrainer.trainer:report:198 - Epoch 5 train 0.1408 test 0.1358 metric ['0.9665', '0.9665', '0.8527']\n",
    "2025-06-12 12:41:34.270 | INFO     | mltrainer.trainer:report:198 - Epoch 6 train 0.1359 test 0.1339 metric ['0.9632', '0.9632', '0.8316']\n",
    "2025-06-12 12:41:43.206 | INFO     | mltrainer.trainer:report:198 - Epoch 7 train 0.1280 test 0.1252 metric ['0.9701', '0.9701', '0.8852']\n",
    "2025-06-12 12:41:51.908 | INFO     | mltrainer.trainer:report:198 - Epoch 8 train 0.1146 test 0.1115 metric ['0.9715', '0.9715', '0.8671']\n",
    "2025-06-12 12:42:00.693 | INFO     | mltrainer.trainer:report:198 - Epoch 9 train 0.1091 test 0.1228 metric ['0.9674', '0.9674', '0.8505']\n",
    "\n",
    "With Selfattention\n",
    "------------------\n",
    "2025-06-11 17:28:34.844 | INFO     | mltrainer.trainer:dir_add_timestamp:23 - Logging to logs\\heart2D\\20250611-172834\n",
    "2025-06-11 17:28:47.577 | INFO     | mltrainer.trainer:report:198 - Epoch 0 train 0.5928 test 0.3834 metric ['0.8879', '0.8879', '0.5407']\n",
    "2025-06-11 17:28:58.848 | INFO     | mltrainer.trainer:report:198 - Epoch 1 train 0.3588 test 0.3643 metric ['0.8982', '0.8982', '0.6011']\n",
    "2025-06-11 17:29:09.007 | INFO     | mltrainer.trainer:report:198 - Epoch 2 train 0.3078 test 0.2556 metric ['0.9409', '0.9409', '0.7152']\n",
    "2025-06-11 17:29:19.159 | INFO     | mltrainer.trainer:report:198 - Epoch 3 train 0.2567 test 0.2526 metric ['0.9380', '0.9380', '0.7057']\n",
    "2025-06-11 17:29:29.365 | INFO     | mltrainer.trainer:report:198 - Epoch 4 train 0.2216 test 0.2405 metric ['0.9341', '0.9341', '0.7038']\n",
    "2025-06-11 17:29:40.296 | INFO     | mltrainer.trainer:report:198 - Epoch 5 train 0.2095 test 0.2105 metric ['0.9455', '0.9455', '0.7568']\n",
    "2025-06-11 17:29:51.609 | INFO     | mltrainer.trainer:report:198 - Epoch 6 train 0.2077 test 0.2526 metric ['0.9352', '0.9352', '0.7884']\n",
    "2025-06-11 17:30:04.300 | INFO     | mltrainer.trainer:report:198 - Epoch 7 train 0.1846 test 0.1844 metric ['0.9538', '0.9538', '0.8075']\n",
    "2025-06-11 17:30:17.407 | INFO     | mltrainer.trainer:report:198 - Epoch 8 train 0.1897 test 0.1698 metric ['0.9614', '0.9614', '0.8498']\n",
    "2025-06-11 17:30:29.265 | INFO     | mltrainer.trainer:report:198 - Epoch 9 train 0.1696 test 0.1825 metric ['0.9517', '0.9517', '0.7818']\n",
    "\n",
    "With MultiHead Self attention\n",
    "------------------\n",
    "2025-06-11 17:37:27.088 | INFO     | mltrainer.trainer:dir_add_timestamp:23 - Logging to logs\\heart2D\\20250611-173727\n",
    "2025-06-11 17:37:42.383 | INFO     | mltrainer.trainer:report:198 - Epoch 0 train 0.5536 test 0.3658 metric ['0.9076', '0.9076', '0.6114']\n",
    "2025-06-11 17:37:55.318 | INFO     | mltrainer.trainer:report:198 - Epoch 1 train 0.3139 test 0.2612 metric ['0.9352', '0.9352', '0.7102']\n",
    "2025-06-11 17:38:07.132 | INFO     | mltrainer.trainer:report:198 - Epoch 2 train 0.2405 test 0.2361 metric ['0.9405', '0.9405', '0.7631']\n",
    "2025-06-11 17:38:18.777 | INFO     | mltrainer.trainer:report:198 - Epoch 3 train 0.1933 test 0.1941 metric ['0.9559', '0.9559', '0.8365']\n",
    "2025-06-11 17:38:32.020 | INFO     | mltrainer.trainer:report:198 - Epoch 4 train 0.1696 test 0.1644 metric ['0.9561', '0.9561', '0.7823']\n",
    "2025-06-11 17:38:43.319 | INFO     | mltrainer.trainer:report:198 - Epoch 5 train 0.1572 test 0.1405 metric ['0.9671', '0.9671', '0.8532']\n",
    "2025-06-11 17:38:54.447 | INFO     | mltrainer.trainer:report:198 - Epoch 6 train 0.1335 test 0.1340 metric ['0.9674', '0.9674', '0.8493']\n",
    "2025-06-11 17:39:10.569 | INFO     | mltrainer.trainer:report:198 - Epoch 7 train 0.1356 test 0.1371 metric ['0.9644', '0.9644', '0.8481']\n",
    "2025-06-11 17:39:23.101 | INFO     | mltrainer.trainer:report:198 - Epoch 8 train 0.1268 test 0.1497 metric ['0.9614', '0.9614', '0.8267']\n",
    "2025-06-11 17:39:36.016 | INFO     | mltrainer.trainer:report:198 - Epoch 9 train 0.1273 test 0.1224 metric ['0.9678', '0.9678', '0.8565']\n",
    "\n",
    "Epoch 9 train 0.3166 test 0.3350 metric ['0.8524', '0.8524', '0.8636']\n",
    "\"\"\""
   ]
  },
  {
   "cell_type": "code",
   "execution_count": null,
   "id": "21e7765f",
   "metadata": {},
   "outputs": [
    {
     "name": "stdout",
     "output_type": "stream",
     "text": [
      "Parameter containing:\n",
      "tensor([0.0519], requires_grad=True)\n",
      "Parameter containing:\n",
      "tensor([-0.0421], requires_grad=True)\n"
     ]
    }
   ],
   "source": [
    "from src.models import MultiHeadSelfAtt\n",
    "for layer in model.convolutions:\n",
    "    if isinstance(layer, MultiHeadSelfAtt):\n",
    "        print(layer.weights)"
   ]
  },
  {
   "cell_type": "markdown",
   "id": "ea710d5c",
   "metadata": {},
   "source": [
    "# Testing RNN Models"
   ]
  },
  {
   "cell_type": "markdown",
   "id": "ffdff001",
   "metadata": {},
   "source": [
    "## GRU Attention"
   ]
  },
  {
   "cell_type": "code",
   "execution_count": null,
   "id": "c3dd314f",
   "metadata": {},
   "outputs": [
    {
     "name": "stdout",
     "output_type": "stream",
     "text": [
      "{'ptb': 'heart', 'arrhythmia': 'heart_big'}\n"
     ]
    },
    {
     "data": {
      "text/plain": [
       "(363, 90)"
      ]
     },
     "execution_count": 41,
     "metadata": {},
     "output_type": "execute_result"
    }
   ],
   "source": [
    "import tomllib\n",
    "\n",
    "dataset = 'ptb'\n",
    "\n",
    "datadir = Path('../data')\n",
    "configfile = Path(\"config.toml\")\n",
    "\n",
    "with configfile.open('rb') as f:\n",
    "    config = tomllib.load(f)\n",
    "print(config)\n",
    "\n",
    "trainfile = datadir / (config[dataset] + '_train.parq')\n",
    "testfile = datadir / (config[dataset] + '_test.parq')\n",
    "trainfile, testfile\n",
    "\n",
    "traindataset = datasets.HeartDataset1D(trainfile, target=\"target\")\n",
    "testdataset = datasets.HeartDataset1D(testfile, target=\"target\")\n",
    "traindataset, testdataset\n",
    "\n",
    "if torch.backends.mps.is_available() and torch.backends.mps.is_built():\n",
    "    device = torch.device(\"mps\")\n",
    "    print(\"Using MPS\")\n",
    "else:\n",
    "    device = \"cpu\"\n",
    "    \n",
    "trainstreamer = BaseDatastreamer(traindataset, preprocessor = BasePreprocessor(), batchsize=32)\n",
    "teststreamer = BaseDatastreamer(testdataset, preprocessor = BasePreprocessor(), batchsize=32)\n",
    "len(trainstreamer), len(teststreamer)"
   ]
  },
  {
   "cell_type": "code",
   "execution_count": null,
   "id": "564f53b8",
   "metadata": {},
   "outputs": [
    {
     "ename": "TypeError",
     "evalue": "non-default argument 'hidden_size' follows default argument 'input_size'",
     "output_type": "error",
     "traceback": [
      "\u001b[31m---------------------------------------------------------------------------\u001b[39m",
      "\u001b[31mTypeError\u001b[39m                                 Traceback (most recent call last)",
      "\u001b[36mCell\u001b[39m\u001b[36m \u001b[39m\u001b[32mIn[2]\u001b[39m\u001b[32m, line 1\u001b[39m\n\u001b[32m----> \u001b[39m\u001b[32m1\u001b[39m \u001b[38;5;28;01mfrom\u001b[39;00m\u001b[38;5;250m \u001b[39m\u001b[34;01msrc\u001b[39;00m\u001b[34;01m.\u001b[39;00m\u001b[34;01mmodels\u001b[39;00m\u001b[38;5;250m \u001b[39m\u001b[38;5;28;01mimport\u001b[39;00m GRUSettings, GRUmodel\n\u001b[32m      3\u001b[39m model_settings = GRUSettings(\n\u001b[32m      4\u001b[39m     input_size = \u001b[32m1\u001b[39m,\n\u001b[32m      5\u001b[39m     hidden_size = \u001b[32m32\u001b[39m,\n\u001b[32m   (...)\u001b[39m\u001b[32m      8\u001b[39m     dropout = \u001b[32m0.2\u001b[39m,\n\u001b[32m      9\u001b[39m )\n\u001b[32m     11\u001b[39m model = GRUmodel(model_settings)\n",
      "\u001b[36mFile \u001b[39m\u001b[32m~\\Documents\\repositories\\MADS-exam-25\\src\\models.py:205\u001b[39m\n\u001b[32m    197\u001b[39m         \u001b[38;5;28;01mreturn\u001b[39;00m activation_dict[activation]\n\u001b[32m    200\u001b[39m \u001b[38;5;66;03m#----------------------------------------------------------------\u001b[39;00m\n\u001b[32m    201\u001b[39m \u001b[38;5;66;03m#############################\u001b[39;00m\n\u001b[32m    202\u001b[39m \u001b[38;5;66;03m# RNN Nation                #\u001b[39;00m\n\u001b[32m    203\u001b[39m \u001b[38;5;66;03m#############################\u001b[39;00m\n\u001b[32m--> \u001b[39m\u001b[32m205\u001b[39m \u001b[38;5;129;43m@dataclass\u001b[39;49m\n\u001b[32m    206\u001b[39m \u001b[38;5;28;43;01mclass\u001b[39;49;00m\u001b[38;5;250;43m \u001b[39;49m\u001b[34;43;01mGRUSettings\u001b[39;49;00m\u001b[43m(\u001b[49m\u001b[43mBaseModelSettings\u001b[49m\u001b[43m)\u001b[49m\u001b[43m:\u001b[49m\n\u001b[32m    207\u001b[39m \u001b[43m    \u001b[49m\u001b[43minput_size\u001b[49m\u001b[43m:\u001b[49m\u001b[43m \u001b[49m\u001b[38;5;28;43mint\u001b[39;49m\u001b[43m \u001b[49m\u001b[43m=\u001b[49m\u001b[43m \u001b[49m\u001b[32;43m1\u001b[39;49m\n\u001b[32m    208\u001b[39m \u001b[43m    \u001b[49m\u001b[43mattention\u001b[49m\u001b[43m:\u001b[49m\u001b[43m \u001b[49m\u001b[38;5;28;43mbool\u001b[39;49m\u001b[43m \u001b[49m\u001b[43m=\u001b[49m\u001b[43m \u001b[49m\u001b[38;5;28;43;01mTrue\u001b[39;49;00m\n",
      "\u001b[36mFile \u001b[39m\u001b[32mC:\\Python313\\Lib\\dataclasses.py:1305\u001b[39m, in \u001b[36mdataclass\u001b[39m\u001b[34m(cls, init, repr, eq, order, unsafe_hash, frozen, match_args, kw_only, slots, weakref_slot)\u001b[39m\n\u001b[32m   1302\u001b[39m     \u001b[38;5;28;01mreturn\u001b[39;00m wrap\n\u001b[32m   1304\u001b[39m \u001b[38;5;66;03m# We're called as @dataclass without parens.\u001b[39;00m\n\u001b[32m-> \u001b[39m\u001b[32m1305\u001b[39m \u001b[38;5;28;01mreturn\u001b[39;00m \u001b[43mwrap\u001b[49m\u001b[43m(\u001b[49m\u001b[38;5;28;43mcls\u001b[39;49m\u001b[43m)\u001b[49m\n",
      "\u001b[36mFile \u001b[39m\u001b[32mC:\\Python313\\Lib\\dataclasses.py:1295\u001b[39m, in \u001b[36mdataclass.<locals>.wrap\u001b[39m\u001b[34m(cls)\u001b[39m\n\u001b[32m   1294\u001b[39m \u001b[38;5;28;01mdef\u001b[39;00m\u001b[38;5;250m \u001b[39m\u001b[34mwrap\u001b[39m(\u001b[38;5;28mcls\u001b[39m):\n\u001b[32m-> \u001b[39m\u001b[32m1295\u001b[39m     \u001b[38;5;28;01mreturn\u001b[39;00m \u001b[43m_process_class\u001b[49m\u001b[43m(\u001b[49m\u001b[38;5;28;43mcls\u001b[39;49m\u001b[43m,\u001b[49m\u001b[43m \u001b[49m\u001b[43minit\u001b[49m\u001b[43m,\u001b[49m\u001b[43m \u001b[49m\u001b[38;5;28;43mrepr\u001b[39;49m\u001b[43m,\u001b[49m\u001b[43m \u001b[49m\u001b[43meq\u001b[49m\u001b[43m,\u001b[49m\u001b[43m \u001b[49m\u001b[43morder\u001b[49m\u001b[43m,\u001b[49m\u001b[43m \u001b[49m\u001b[43munsafe_hash\u001b[49m\u001b[43m,\u001b[49m\n\u001b[32m   1296\u001b[39m \u001b[43m                          \u001b[49m\u001b[43mfrozen\u001b[49m\u001b[43m,\u001b[49m\u001b[43m \u001b[49m\u001b[43mmatch_args\u001b[49m\u001b[43m,\u001b[49m\u001b[43m \u001b[49m\u001b[43mkw_only\u001b[49m\u001b[43m,\u001b[49m\u001b[43m \u001b[49m\u001b[43mslots\u001b[49m\u001b[43m,\u001b[49m\n\u001b[32m   1297\u001b[39m \u001b[43m                          \u001b[49m\u001b[43mweakref_slot\u001b[49m\u001b[43m)\u001b[49m\n",
      "\u001b[36mFile \u001b[39m\u001b[32mC:\\Python313\\Lib\\dataclasses.py:1078\u001b[39m, in \u001b[36m_process_class\u001b[39m\u001b[34m(cls, init, repr, eq, order, unsafe_hash, frozen, match_args, kw_only, slots, weakref_slot)\u001b[39m\n\u001b[32m   1074\u001b[39m \u001b[38;5;28;01mif\u001b[39;00m init:\n\u001b[32m   1075\u001b[39m     \u001b[38;5;66;03m# Does this class have a post-init function?\u001b[39;00m\n\u001b[32m   1076\u001b[39m     has_post_init = \u001b[38;5;28mhasattr\u001b[39m(\u001b[38;5;28mcls\u001b[39m, _POST_INIT_NAME)\n\u001b[32m-> \u001b[39m\u001b[32m1078\u001b[39m     \u001b[43m_init_fn\u001b[49m\u001b[43m(\u001b[49m\u001b[43mall_init_fields\u001b[49m\u001b[43m,\u001b[49m\n\u001b[32m   1079\u001b[39m \u001b[43m             \u001b[49m\u001b[43mstd_init_fields\u001b[49m\u001b[43m,\u001b[49m\n\u001b[32m   1080\u001b[39m \u001b[43m             \u001b[49m\u001b[43mkw_only_init_fields\u001b[49m\u001b[43m,\u001b[49m\n\u001b[32m   1081\u001b[39m \u001b[43m             \u001b[49m\u001b[43mfrozen\u001b[49m\u001b[43m,\u001b[49m\n\u001b[32m   1082\u001b[39m \u001b[43m             \u001b[49m\u001b[43mhas_post_init\u001b[49m\u001b[43m,\u001b[49m\n\u001b[32m   1083\u001b[39m \u001b[43m             \u001b[49m\u001b[38;5;66;43;03m# The name to use for the \"self\"\u001b[39;49;00m\n\u001b[32m   1084\u001b[39m \u001b[43m             \u001b[49m\u001b[38;5;66;43;03m# param in __init__.  Use \"self\"\u001b[39;49;00m\n\u001b[32m   1085\u001b[39m \u001b[43m             \u001b[49m\u001b[38;5;66;43;03m# if possible.\u001b[39;49;00m\n\u001b[32m   1086\u001b[39m \u001b[43m             \u001b[49m\u001b[33;43m'\u001b[39;49m\u001b[33;43m__dataclass_self__\u001b[39;49m\u001b[33;43m'\u001b[39;49m\u001b[43m \u001b[49m\u001b[38;5;28;43;01mif\u001b[39;49;00m\u001b[43m \u001b[49m\u001b[33;43m'\u001b[39;49m\u001b[33;43mself\u001b[39;49m\u001b[33;43m'\u001b[39;49m\u001b[43m \u001b[49m\u001b[38;5;129;43;01min\u001b[39;49;00m\u001b[43m \u001b[49m\u001b[43mfields\u001b[49m\n\u001b[32m   1087\u001b[39m \u001b[43m             \u001b[49m\u001b[38;5;28;43;01melse\u001b[39;49;00m\u001b[43m \u001b[49m\u001b[33;43m'\u001b[39;49m\u001b[33;43mself\u001b[39;49m\u001b[33;43m'\u001b[39;49m\u001b[43m,\u001b[49m\n\u001b[32m   1088\u001b[39m \u001b[43m             \u001b[49m\u001b[43mfunc_builder\u001b[49m\u001b[43m,\u001b[49m\n\u001b[32m   1089\u001b[39m \u001b[43m             \u001b[49m\u001b[43mslots\u001b[49m\u001b[43m,\u001b[49m\n\u001b[32m   1090\u001b[39m \u001b[43m             \u001b[49m\u001b[43m)\u001b[49m\n\u001b[32m   1092\u001b[39m _set_new_attribute(\u001b[38;5;28mcls\u001b[39m, \u001b[33m'\u001b[39m\u001b[33m__replace__\u001b[39m\u001b[33m'\u001b[39m, _replace)\n\u001b[32m   1094\u001b[39m \u001b[38;5;66;03m# Get the fields as a list, and include only real fields.  This is\u001b[39;00m\n\u001b[32m   1095\u001b[39m \u001b[38;5;66;03m# used in all of the following methods.\u001b[39;00m\n",
      "\u001b[36mFile \u001b[39m\u001b[32mC:\\Python313\\Lib\\dataclasses.py:627\u001b[39m, in \u001b[36m_init_fn\u001b[39m\u001b[34m(fields, std_fields, kw_only_fields, frozen, has_post_init, self_name, func_builder, slots)\u001b[39m\n\u001b[32m    625\u001b[39m             seen_default = f\n\u001b[32m    626\u001b[39m         \u001b[38;5;28;01melif\u001b[39;00m seen_default:\n\u001b[32m--> \u001b[39m\u001b[32m627\u001b[39m             \u001b[38;5;28;01mraise\u001b[39;00m \u001b[38;5;167;01mTypeError\u001b[39;00m(\u001b[33mf\u001b[39m\u001b[33m'\u001b[39m\u001b[33mnon-default argument \u001b[39m\u001b[38;5;132;01m{\u001b[39;00mf.name\u001b[38;5;132;01m!r}\u001b[39;00m\u001b[33m \u001b[39m\u001b[33m'\u001b[39m\n\u001b[32m    628\u001b[39m                             \u001b[33mf\u001b[39m\u001b[33m'\u001b[39m\u001b[33mfollows default argument \u001b[39m\u001b[38;5;132;01m{\u001b[39;00mseen_default.name\u001b[38;5;132;01m!r}\u001b[39;00m\u001b[33m'\u001b[39m)\n\u001b[32m    630\u001b[39m \u001b[38;5;28mlocals\u001b[39m = {**{\u001b[33mf\u001b[39m\u001b[33m'\u001b[39m\u001b[33m__dataclass_type_\u001b[39m\u001b[38;5;132;01m{\u001b[39;00mf.name\u001b[38;5;132;01m}\u001b[39;00m\u001b[33m__\u001b[39m\u001b[33m'\u001b[39m: f.type \u001b[38;5;28;01mfor\u001b[39;00m f \u001b[38;5;129;01min\u001b[39;00m fields},\n\u001b[32m    631\u001b[39m           **{\u001b[33m'\u001b[39m\u001b[33m__dataclass_HAS_DEFAULT_FACTORY__\u001b[39m\u001b[33m'\u001b[39m: _HAS_DEFAULT_FACTORY,\n\u001b[32m    632\u001b[39m              \u001b[33m'\u001b[39m\u001b[33m__dataclass_builtins_object__\u001b[39m\u001b[33m'\u001b[39m: \u001b[38;5;28mobject\u001b[39m,\n\u001b[32m    633\u001b[39m              }\n\u001b[32m    634\u001b[39m           }\n\u001b[32m    636\u001b[39m body_lines = []\n",
      "\u001b[31mTypeError\u001b[39m: non-default argument 'hidden_size' follows default argument 'input_size'"
     ]
    }
   ],
   "source": [
    "from src.models import GRUSettings, GRUmodel\n",
    "\n",
    "model_settings = GRUSettings(\n",
    "    hidden_size = 32,\n",
    "    input_size = 1,\n",
    "    num_layers = 2,\n",
    "    output_size = 5,\n",
    "    dropout = 0.2,\n",
    ")\n",
    "\n",
    "model = GRUmodel(model_settings)"
   ]
  },
  {
   "cell_type": "code",
   "execution_count": null,
   "id": "a2481dee",
   "metadata": {},
   "outputs": [
    {
     "data": {
      "text/plain": [
       "torch.Size([32, 192, 1])"
      ]
     },
     "execution_count": 50,
     "metadata": {},
     "output_type": "execute_result"
    }
   ],
   "source": [
    "x, y = next(trainstreamer.stream())\n",
    "x.shape"
   ]
  },
  {
   "cell_type": "code",
   "execution_count": null,
   "id": "abc4a0e8",
   "metadata": {},
   "outputs": [
    {
     "name": "stderr",
     "output_type": "stream",
     "text": [
      "\u001b[32m2025-06-27 18:40:31.958\u001b[0m | \u001b[1mINFO    \u001b[0m | \u001b[36mmltrainer.trainer\u001b[0m:\u001b[36mdir_add_timestamp\u001b[0m:\u001b[36m23\u001b[0m - \u001b[1mLogging to logs\\heart1D\\20250627-184031\u001b[0m\n",
      "100%|\u001b[38;2;30;71;6m██████████\u001b[0m| 72/72 [00:11<00:00,  6.45it/s]\n",
      "\u001b[32m2025-06-27 18:40:43.615\u001b[0m | \u001b[1mINFO    \u001b[0m | \u001b[36mmltrainer.trainer\u001b[0m:\u001b[36mreport\u001b[0m:\u001b[36m198\u001b[0m - \u001b[1mEpoch 0 train 0.8795 test 0.5708 metric ['0.7448', '0.5000']\u001b[0m\n",
      "100%|\u001b[38;2;30;71;6m██████████\u001b[0m| 72/72 [00:11<00:00,  6.42it/s]\n",
      "\u001b[32m2025-06-27 18:40:55.331\u001b[0m | \u001b[1mINFO    \u001b[0m | \u001b[36mmltrainer.trainer\u001b[0m:\u001b[36mreport\u001b[0m:\u001b[36m198\u001b[0m - \u001b[1mEpoch 1 train 0.6026 test 0.6073 metric ['0.7240', '0.5000']\u001b[0m\n",
      "100%|\u001b[38;2;30;71;6m██████████\u001b[0m| 72/72 [00:11<00:00,  6.40it/s]\n",
      "\u001b[32m2025-06-27 18:41:07.095\u001b[0m | \u001b[1mINFO    \u001b[0m | \u001b[36mmltrainer.trainer\u001b[0m:\u001b[36mreport\u001b[0m:\u001b[36m198\u001b[0m - \u001b[1mEpoch 2 train 0.5962 test 0.5963 metric ['0.7222', '0.5000']\u001b[0m\n",
      "100%|\u001b[38;2;30;71;6m██████████\u001b[0m| 72/72 [00:11<00:00,  6.47it/s]\n",
      "\u001b[32m2025-06-27 18:41:18.734\u001b[0m | \u001b[1mINFO    \u001b[0m | \u001b[36mmltrainer.trainer\u001b[0m:\u001b[36mreport\u001b[0m:\u001b[36m198\u001b[0m - \u001b[1mEpoch 3 train 0.6017 test 0.5948 metric ['0.7188', '0.5000']\u001b[0m\n",
      "100%|\u001b[38;2;30;71;6m██████████\u001b[0m| 72/72 [00:11<00:00,  6.38it/s]\n",
      "\u001b[32m2025-06-27 18:41:30.536\u001b[0m | \u001b[1mINFO    \u001b[0m | \u001b[36mmltrainer.trainer\u001b[0m:\u001b[36mreport\u001b[0m:\u001b[36m198\u001b[0m - \u001b[1mEpoch 4 train 0.5801 test 0.6174 metric ['0.7066', '0.5000']\u001b[0m\n",
      "100%|\u001b[38;2;30;71;6m██████████\u001b[0m| 72/72 [00:11<00:00,  6.43it/s]\n",
      "\u001b[32m2025-06-27 18:41:42.265\u001b[0m | \u001b[1mINFO    \u001b[0m | \u001b[36mmltrainer.trainer\u001b[0m:\u001b[36mreport\u001b[0m:\u001b[36m198\u001b[0m - \u001b[1mEpoch 5 train 0.5957 test 0.6058 metric ['0.7344', '0.5000']\u001b[0m\n",
      "100%|\u001b[38;2;30;71;6m██████████\u001b[0m| 72/72 [00:11<00:00,  6.27it/s]\n",
      "\u001b[32m2025-06-27 18:41:54.228\u001b[0m | \u001b[1mINFO    \u001b[0m | \u001b[36mmltrainer.trainer\u001b[0m:\u001b[36mreport\u001b[0m:\u001b[36m198\u001b[0m - \u001b[1mEpoch 6 train 0.6032 test 0.5899 metric ['0.7257', '0.5000']\u001b[0m\n",
      "100%|\u001b[38;2;30;71;6m██████████\u001b[0m| 72/72 [00:11<00:00,  6.41it/s]\n",
      "\u001b[32m2025-06-27 18:42:05.995\u001b[0m | \u001b[1mINFO    \u001b[0m | \u001b[36mmltrainer.trainer\u001b[0m:\u001b[36mreport\u001b[0m:\u001b[36m198\u001b[0m - \u001b[1mEpoch 7 train 0.5950 test 0.5886 metric ['0.7309', '0.5000']\u001b[0m\n",
      "100%|\u001b[38;2;30;71;6m██████████\u001b[0m| 72/72 [00:11<00:00,  6.42it/s]\n",
      "\u001b[32m2025-06-27 18:42:17.740\u001b[0m | \u001b[1mINFO    \u001b[0m | \u001b[36mmltrainer.trainer\u001b[0m:\u001b[36mreport\u001b[0m:\u001b[36m198\u001b[0m - \u001b[1mEpoch 8 train 0.5953 test 0.6019 metric ['0.7066', '0.5000']\u001b[0m\n",
      "100%|\u001b[38;2;30;71;6m██████████\u001b[0m| 72/72 [00:11<00:00,  6.21it/s]\n",
      "\u001b[32m2025-06-27 18:42:29.879\u001b[0m | \u001b[1mINFO    \u001b[0m | \u001b[36mmltrainer.trainer\u001b[0m:\u001b[36mreport\u001b[0m:\u001b[36m198\u001b[0m - \u001b[1mEpoch 9 train 0.5862 test 0.5755 metric ['0.7101', '0.5000']\u001b[0m\n",
      "100%|\u001b[38;2;30;71;6m██████████\u001b[0m| 10/10 [01:57<00:00, 11.79s/it]\n"
     ]
    },
    {
     "data": {
      "text/plain": [
       "'\\n\\n'"
      ]
     },
     "execution_count": 51,
     "metadata": {},
     "output_type": "execute_result"
    }
   ],
   "source": [
    "from mltrainer import Trainer, TrainerSettings, ReportTypes\n",
    "import mlflow\n",
    "mlflow.set_tracking_uri(\"sqlite:///mads_exam.db\")\n",
    "mlflow.set_experiment(\"1D Escapades\")\n",
    "\n",
    "\n",
    "precision = metrics.Precision('micro')\n",
    "recall = metrics.Recall('macro')\n",
    "accuracy = metrics.Accuracy()\n",
    "\n",
    "loss_fn = torch.nn.CrossEntropyLoss()\n",
    "\n",
    "\n",
    "with mlflow.start_run():\n",
    "    optimizer = torch.optim.Adam\n",
    "    settings = TrainerSettings(\n",
    "        epochs=10,\n",
    "        metrics=[accuracy, recall],\n",
    "        logdir=\"logs/heart1D\",\n",
    "        train_steps=len(trainstreamer) // 5,\n",
    "        valid_steps=len(teststreamer) // 5,\n",
    "        reporttypes=[ReportTypes.TENSORBOARD, ReportTypes.MLFLOW],\n",
    "        scheduler_kwargs=None,\n",
    "        earlystop_kwargs=None\n",
    "    )\n",
    "\n",
    "    # modify the tags when you change them!\n",
    "    mlflow.set_tag(\"model\", \"RNN\")\n",
    "    mlflow.set_tag(\"dataset\", \"heart_small_binary\")\n",
    "    mlflow.log_param(\"scheduler\", \"None\")\n",
    "    mlflow.log_param(\"earlystop\", \"None\")\n",
    "\n",
    "    mlflow.log_params(model_settings.__dict__)\n",
    "    mlflow.log_param(\"epochs\", settings.epochs)\n",
    "    mlflow.log_param(\"shape0\", shape[0])\n",
    "    mlflow.log_param(\"modeltype\", \"RNN\")\n",
    "    mlflow.log_param(\"optimizer\", str(optimizer))\n",
    "    mlflow.log_params(settings.optimizer_kwargs)\n",
    "\n",
    "    trainer = Trainer(\n",
    "        model=model,\n",
    "        settings=settings,\n",
    "        loss_fn=loss_fn,\n",
    "        optimizer=optimizer,\n",
    "        traindataloader=trainstreamer.stream(),\n",
    "        validdataloader=teststreamer.stream(),\n",
    "        scheduler=None,\n",
    "        )\n",
    "    trainer.loop()\n",
    "\n",
    "\n",
    "# No SelfAttention\n",
    "\"\"\"\n",
    "\n",
    "\"\"\""
   ]
  },
  {
   "cell_type": "code",
   "execution_count": null,
   "id": "3bdb55a9",
   "metadata": {},
   "outputs": [],
   "source": []
  }
 ],
 "metadata": {
  "kernelspec": {
   "display_name": ".venv",
   "language": "python",
   "name": "python3"
  },
  "language_info": {
   "codemirror_mode": {
    "name": "ipython",
    "version": 3
   },
   "file_extension": ".py",
   "mimetype": "text/x-python",
   "name": "python",
   "nbconvert_exporter": "python",
   "pygments_lexer": "ipython3",
   "version": "3.13.3"
  }
 },
 "nbformat": 4,
 "nbformat_minor": 5
}
